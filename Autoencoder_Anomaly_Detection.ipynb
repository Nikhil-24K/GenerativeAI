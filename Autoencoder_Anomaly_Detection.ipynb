{
  "cells": [
    {
      "cell_type": "markdown",
      "metadata": {
        "id": "view-in-github",
        "colab_type": "text"
      },
      "source": [
        "<a href=\"https://colab.research.google.com/github/Nikhil-24K/GenerativeAI/blob/main/Autoencoder_Anomaly_Detection.ipynb\" target=\"_parent\"><img src=\"https://colab.research.google.com/assets/colab-badge.svg\" alt=\"Open In Colab\"/></a>"
      ]
    },
    {
      "cell_type": "markdown",
      "metadata": {
        "id": "3SFV3lJ5Hxtx"
      },
      "source": [
        "###Autoencoders - Anomaly Detection : Execute autoencoders utilizing a dataset and evaluate its anomaly detection capabilities. To comprehend the architecture and operation of autoencoders for anomaly detection."
      ]
    },
    {
      "cell_type": "code",
      "execution_count": 1,
      "metadata": {
        "id": "G8319nQLGypl"
      },
      "outputs": [],
      "source": [
        "import numpy as np\n",
        "import matplotlib.pyplot as plt\n",
        "from tensorflow.keras.datasets import mnist\n",
        "from tensorflow.keras.models import Sequential,Model\n",
        "from tensorflow.keras.layers import Input, Dense"
      ]
    },
    {
      "cell_type": "code",
      "execution_count": 2,
      "metadata": {
        "colab": {
          "base_uri": "https://localhost:8080/"
        },
        "id": "OWq8_krGI6Lp",
        "outputId": "d76a71bc-b8c1-4a01-92f2-0c5d0b2d3df5"
      },
      "outputs": [
        {
          "output_type": "stream",
          "name": "stdout",
          "text": [
            "Downloading data from https://storage.googleapis.com/tensorflow/tf-keras-datasets/mnist.npz\n",
            "11490434/11490434 [==============================] - 1s 0us/step\n"
          ]
        }
      ],
      "source": [
        "(train_data,_),(test_data,_) = mnist.load_data()"
      ]
    },
    {
      "cell_type": "code",
      "execution_count": 3,
      "metadata": {
        "id": "94aZbsyCJbSf"
      },
      "outputs": [],
      "source": [
        "train_data = train_data.astype('float32')/255.0\n",
        "test_data = test_data.astype('float32')/255.0"
      ]
    },
    {
      "cell_type": "code",
      "execution_count": 4,
      "metadata": {
        "id": "SXxawIWmJnT3"
      },
      "outputs": [],
      "source": [
        "train_data = train_data.reshape((len(train_data),np.prod(train_data.shape[1:])))\n",
        "test_data = test_data.reshape((len(test_data),np.prod(test_data.shape[1:])))"
      ]
    },
    {
      "cell_type": "code",
      "execution_count": 5,
      "metadata": {
        "id": "HTR_bJZsOUnZ"
      },
      "outputs": [],
      "source": [
        "input_size = 784\n",
        "encoding_dim = 32"
      ]
    },
    {
      "cell_type": "code",
      "execution_count": 6,
      "metadata": {
        "colab": {
          "base_uri": "https://localhost:8080/"
        },
        "id": "eI8v0pIoJ_7n",
        "outputId": "7cc2c365-7582-420c-e236-e1843e47e1d1"
      },
      "outputs": [
        {
          "output_type": "stream",
          "name": "stdout",
          "text": [
            "Model: \"model\"\n",
            "_________________________________________________________________\n",
            " Layer (type)                Output Shape              Param #   \n",
            "=================================================================\n",
            " dense_input (InputLayer)    [(None, 784)]             0         \n",
            "                                                                 \n",
            " dense (Dense)               (None, 128)               100480    \n",
            "                                                                 \n",
            " dense_1 (Dense)             (None, 64)                8256      \n",
            "                                                                 \n",
            " dense_2 (Dense)             (None, 32)                2080      \n",
            "                                                                 \n",
            " sequential_1 (Sequential)   (None, 784)               63440     \n",
            "                                                                 \n",
            "=================================================================\n",
            "Total params: 174256 (680.69 KB)\n",
            "Trainable params: 174256 (680.69 KB)\n",
            "Non-trainable params: 0 (0.00 Byte)\n",
            "_________________________________________________________________\n"
          ]
        }
      ],
      "source": [
        "# Encoder\n",
        "encoder = Sequential([\n",
        "  Dense(128, activation='relu', input_shape=(input_size,)),\n",
        "  Dense(64, activation='relu'),\n",
        "  Dense(encoding_dim, activation='relu')\n",
        "])\n",
        "# Decoder\n",
        "decoder = Sequential([\n",
        "    Dense(128, activation='relu', input_shape=(encoding_dim,)),\n",
        "    Dense(64, activation='relu'),\n",
        "    Dense(input_size, activation='sigmoid')\n",
        "])\n",
        "# Combine Encoder and Decoder\n",
        "autoencoder = Model(encoder.input, decoder(encoder.output))\n",
        "\n",
        "\n",
        "autoencoder.compile(optimizer='adam', loss='binary_crossentropy')\n",
        "autoencoder.summary()\n"
      ]
    },
    {
      "cell_type": "code",
      "execution_count": 7,
      "metadata": {
        "colab": {
          "base_uri": "https://localhost:8080/"
        },
        "id": "yZcwInGRS4Qw",
        "outputId": "986c3b36-23c5-4b8a-ccc3-b12c742cf0a0"
      },
      "outputs": [
        {
          "output_type": "stream",
          "name": "stdout",
          "text": [
            "Epoch 1/10\n",
            "235/235 [==============================] - 5s 7ms/step - loss: 0.2599 - val_loss: 0.1796\n",
            "Epoch 2/10\n",
            "235/235 [==============================] - 2s 7ms/step - loss: 0.1605 - val_loss: 0.1438\n",
            "Epoch 3/10\n",
            "235/235 [==============================] - 2s 7ms/step - loss: 0.1373 - val_loss: 0.1297\n",
            "Epoch 4/10\n",
            "235/235 [==============================] - 1s 5ms/step - loss: 0.1272 - val_loss: 0.1220\n",
            "Epoch 5/10\n",
            "235/235 [==============================] - 1s 6ms/step - loss: 0.1205 - val_loss: 0.1162\n",
            "Epoch 6/10\n",
            "235/235 [==============================] - 2s 9ms/step - loss: 0.1156 - val_loss: 0.1119\n",
            "Epoch 7/10\n",
            "235/235 [==============================] - 1s 5ms/step - loss: 0.1116 - val_loss: 0.1086\n",
            "Epoch 8/10\n",
            "235/235 [==============================] - 1s 5ms/step - loss: 0.1090 - val_loss: 0.1068\n",
            "Epoch 9/10\n",
            "235/235 [==============================] - 1s 5ms/step - loss: 0.1070 - val_loss: 0.1046\n",
            "Epoch 10/10\n",
            "235/235 [==============================] - 1s 5ms/step - loss: 0.1052 - val_loss: 0.1028\n",
            "313/313 [==============================] - 1s 2ms/step\n"
          ]
        }
      ],
      "source": [
        "# Train the autoencoder on normal data\n",
        "autoencoder.fit(train_data, train_data, epochs=10, batch_size=256, shuffle=True, validation_data=(test_data, test_data))\n",
        "\n",
        "\n",
        "#Evaluate anomaly detection capabilities\n",
        "decoded_imgs = autoencoder.predict(test_data)\n",
        "mse = np.mean(np.power(test_data - decoded_imgs, 2), axis=1) # Mean Squared Error (MSE) as reconstructor\n",
        "\n",
        "\n",
        "# Set a threshold for anomaly detection (adjust as needed)\n",
        "threshold = 0.02\n",
        "\n",
        "\n",
        "# Identify anomalies\n",
        "anomalies =np.where(mse > threshold)[0]"
      ]
    },
    {
      "cell_type": "code",
      "execution_count": 8,
      "metadata": {
        "colab": {
          "base_uri": "https://localhost:8080/",
          "height": 241
        },
        "id": "i3CL5wNwNfiK",
        "outputId": "bc17d573-4208-40a6-9b9f-da530634fb54"
      },
      "outputs": [
        {
          "output_type": "display_data",
          "data": {
            "text/plain": [
              "<Figure size 2000x400 with 20 Axes>"
            ],
            "image/png": "[encoded data removed]"
          },
          "metadata": {}
        }
      ],
      "source": [
        "n = 10 # Number of digits to display\n",
        "plt.figure(figsize=(20,4))\n",
        "for i, idx in enumerate(anomalies[:n]):\n",
        "# Display anomaly images\n",
        "  ax = plt.subplot(2, n, i + 1)\n",
        "  plt.imshow(test_data[idx].reshape(28,28))\n",
        "  plt.gray()\n",
        "\n",
        "\n",
        "  # Display the corresponding reconstructed images\n",
        "  ax = plt.subplot(2, n, i + 1 + n)\n",
        "  plt.imshow(decoded_imgs[idx].reshape(28, 28))\n",
        "  plt.gray()\n",
        "  ax.get_xaxis().set_visible(False)\n",
        "  ax.get_yaxis().set_visible(False)\n",
        "plt.show()\n",
        "\n"
      ]
    },
    {
      "cell_type": "markdown",
      "metadata": {
        "id": "7fqDIS9gY_bP"
      },
      "source": [
        "Second Approach"
      ]
    },
    {
      "cell_type": "code",
      "execution_count": 9,
      "metadata": {
        "id": "fRrC5S4OYJFJ"
      },
      "outputs": [],
      "source": [
        "import numpy as np\n",
        "import tensorflow as tf\n",
        "from tensorflow.keras import layers,models\n",
        "import matplotlib.pyplot as plt"
      ]
    },
    {
      "cell_type": "code",
      "execution_count": 10,
      "metadata": {
        "id": "k1PIFZADZK7Y"
      },
      "outputs": [],
      "source": [
        "(x_train,_),(x_test,_) = tf.keras.datasets.mnist.load_data()\n",
        "x_train,x_test =x_train/255.0,x_test/255.0"
      ]
    },
    {
      "cell_type": "code",
      "execution_count": 11,
      "metadata": {
        "id": "gP8jV4hIaOJf"
      },
      "outputs": [],
      "source": [
        "noise_factor = 0.5\n",
        "x_train_noisy = x_train+noise_factor*np.random.normal(loc=0.0,scale=1.0,size=x_train.shape)\n",
        "x_test_noisy = x_test + noise_factor * np.random.normal(loc=0.0, scale=1.0, size=x_test.shape)\n"
      ]
    },
    {
      "cell_type": "code",
      "execution_count": 12,
      "metadata": {
        "id": "M-qdXbMKatf5"
      },
      "outputs": [],
      "source": [
        "x_train_noisy = np.clip(x_train_noisy,0.,1.)\n",
        "x_test_noisy = np.clip(x_test_noisy,0.,1.)\n",
        "\n",
        "#Reshape data for autoencoder\n",
        "x_train = x_train.reshape((len(x_train),28,28,1))\n",
        "x_test = x_test.reshape((len(x_test),28,28,1))\n",
        "x_train_noisy = x_train_noisy.reshape((len(x_train_noisy),28,28,1))\n",
        "x_test_noisy = x_test_noisy.reshape((len(x_test_noisy),28,28,1))"
      ]
    },
    {
      "cell_type": "code",
      "execution_count": 13,
      "metadata": {
        "colab": {
          "base_uri": "https://localhost:8080/"
        },
        "id": "B9uBbaF4brT4",
        "outputId": "9c6c71ae-cad4-48a2-9dcc-2f5ddf130a95"
      },
      "outputs": [
        {
          "output_type": "stream",
          "name": "stdout",
          "text": [
            "Model: \"sequential_2\"\n",
            "_________________________________________________________________\n",
            " Layer (type)                Output Shape              Param #   \n",
            "=================================================================\n",
            " conv2d (Conv2D)             (None, 28, 28, 32)        320       \n",
            "                                                                 \n",
            " max_pooling2d (MaxPooling2  (None, 14, 14, 32)        0         \n",
            " D)                                                              \n",
            "                                                                 \n",
            " conv2d_1 (Conv2D)           (None, 14, 14, 32)        9248      \n",
            "                                                                 \n",
            " max_pooling2d_1 (MaxPoolin  (None, 7, 7, 32)          0         \n",
            " g2D)                                                            \n",
            "                                                                 \n",
            " conv2d_2 (Conv2D)           (None, 7, 7, 32)          9248      \n",
            "                                                                 \n",
            " up_sampling2d (UpSampling2  (None, 14, 14, 32)        0         \n",
            " D)                                                              \n",
            "                                                                 \n",
            " conv2d_3 (Conv2D)           (None, 14, 14, 32)        9248      \n",
            "                                                                 \n",
            " up_sampling2d_1 (UpSamplin  (None, 28, 28, 32)        0         \n",
            " g2D)                                                            \n",
            "                                                                 \n",
            " conv2d_4 (Conv2D)           (None, 28, 28, 1)         289       \n",
            "                                                                 \n",
            "=================================================================\n",
            "Total params: 28353 (110.75 KB)\n",
            "Trainable params: 28353 (110.75 KB)\n",
            "Non-trainable params: 0 (0.00 Byte)\n",
            "_________________________________________________________________\n"
          ]
        }
      ],
      "source": [
        "# Define the autiencoder model\n",
        "model = models.Sequential()\n",
        "model.add(layers.InputLayer(input_shape=(28, 28, 1)))\n",
        "model.add(layers.Conv2D(32,(3, 3), activation='relu', padding='same'))\n",
        "model.add(layers.MaxPooling2D((2, 2), padding='same'))\n",
        "model.add(layers.Conv2D(32,(3, 3), activation='relu', padding='same'))\n",
        "model.add(layers.MaxPooling2D((2, 2), padding='same'))\n",
        "model.add(layers.Conv2D(32,(3, 3), activation='relu', padding='same'))\n",
        "model.add(layers.UpSampling2D((2, 2)))\n",
        "model.add(layers.Conv2D(32,(3, 3), activation='relu', padding='same'))\n",
        "model.add(layers.UpSampling2D((2, 2)))\n",
        "model.add(layers.Conv2D(1,(3, 3), activation='sigmoid', padding='same'))\n",
        "\n",
        "\n",
        "model.compile(optimizer='adam', loss='binary_crossentropy')\n",
        "model.summary()"
      ]
    },
    {
      "cell_type": "code",
      "execution_count": 14,
      "metadata": {
        "colab": {
          "base_uri": "https://localhost:8080/"
        },
        "id": "FMXOixn5eJ_h",
        "outputId": "76031f90-5008-43b6-89af-14dfced82240"
      },
      "outputs": [
        {
          "output_type": "stream",
          "name": "stdout",
          "text": [
            "Epoch 1/10\n",
            "469/469 [==============================] - 8s 9ms/step - loss: 0.1692 - val_loss: 0.1189\n",
            "Epoch 2/10\n",
            "469/469 [==============================] - 3s 6ms/step - loss: 0.1154 - val_loss: 0.1105\n",
            "Epoch 3/10\n",
            "469/469 [==============================] - 3s 6ms/step - loss: 0.1096 - val_loss: 0.1063\n",
            "Epoch 4/10\n",
            "469/469 [==============================] - 3s 7ms/step - loss: 0.1059 - val_loss: 0.1039\n",
            "Epoch 5/10\n",
            "469/469 [==============================] - 3s 7ms/step - loss: 0.1038 - val_loss: 0.1022\n",
            "Epoch 6/10\n",
            "469/469 [==============================] - 3s 6ms/step - loss: 0.1024 - val_loss: 0.1021\n",
            "Epoch 7/10\n",
            "469/469 [==============================] - 3s 6ms/step - loss: 0.1014 - val_loss: 0.1002\n",
            "Epoch 8/10\n",
            "469/469 [==============================] - 3s 6ms/step - loss: 0.1005 - val_loss: 0.0995\n",
            "Epoch 9/10\n",
            "469/469 [==============================] - 3s 7ms/step - loss: 0.0998 - val_loss: 0.0988\n",
            "Epoch 10/10\n",
            "469/469 [==============================] - 3s 6ms/step - loss: 0.0992 - val_loss: 0.0984\n",
            "313/313 [==============================] - 1s 3ms/step\n"
          ]
        }
      ],
      "source": [
        "# Train the autoencoder\n",
        "model.fit(x_train_noisy, x_train, epochs=10, batch_size=128, shuffle=True, validation_data=(x_test_noisy, x_test))\n",
        "\n",
        "\n",
        "# Evaluate the model on the test set\n",
        "decoded_images = model.predict(x_test_noisy)\n",
        "\n",
        "\n",
        "# Calculate reconstruction loss for each sample\n",
        "reconstruction_loss = tf.keras.losses.binary_crossentropy(x_test, decoded_images)\n",
        "reconstruction_loss = reconstruction_loss.numpy()\n",
        "\n",
        "\n",
        "# Define a threshold for anomaly detection\n",
        "threshold = np.mean(reconstruction_loss) + 2 * np.std(reconstruction_loss)\n",
        "\n",
        "\n",
        "# Classify each sample as normal or anomaly\n",
        "is_anomaly = reconstruction_loss > threshold"
      ]
    },
    {
      "cell_type": "code",
      "execution_count": 15,
      "metadata": {
        "id": "szVceLHIeUOr",
        "colab": {
          "base_uri": "https://localhost:8080/",
          "height": 296
        },
        "outputId": "9343e7e2-3c59-4f83-e8ec-907ed15cbc3a"
      },
      "outputs": [
        {
          "output_type": "display_data",
          "data": {
            "text/plain": [
              "<Figure size 2000x400 with 11 Axes>"
            ],
            "image/png": "[encoded data removed]"
          },
          "metadata": {}
        }
      ],
      "source": [
        "num_display = 10\n",
        "plt.figure(figsize=(20, 4))\n",
        "for i in range(num_display):\n",
        "#Display original images\n",
        "  ax = plt.subplot(2, num_display, i + 1)\n",
        "  plt.imshow(x_test_noisy[i].reshape(28, 28))\n",
        "  plt.gray()\n",
        "  ax.get_xaxis().set_visible(False)\n",
        "  ax.get_yaxis().set_visible(False)\n",
        "\n",
        "\n",
        "# Display reconstructed images\n",
        "ax = plt.subplot(2, num_display, i + 1 + num_display)\n",
        "plt.imshow(decoded_images[i].reshape(28, 28))\n",
        "plt.gray()\n",
        "plt.title(\"generated\")\n",
        "ax.get_xaxis().set_visible(False)\n",
        "ax.get_yaxis().set_visible(False)\n",
        "\n",
        "\n",
        "# Mark anomalies\n",
        "if is_anomaly[i].any(): # Use .any() to check if any element is True\n",
        "  ax.text(0.5, -0.5, 'Anomaly', color='red', fontsize=12, ha='center', va='center', transform=ax.transAxes)\n",
        "  plt.show()\n",
        "\n"
      ]
    }
  ],
  "metadata": {
    "colab": {
      "provenance": [],
      "gpuType": "T4",
      "authorship_tag": "ABX9TyPmtpQh1Gq91gt9iuh1nu4X",
      "include_colab_link": true
    },
    "kernelspec": {
      "display_name": "Python 3",
      "name": "python3"
    },
    "language_info": {
      "name": "python"
    },
    "accelerator": "GPU"
  },
  "nbformat": 4,
  "nbformat_minor": 0
}
